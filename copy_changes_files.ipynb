{
 "cells": [
  {
   "cell_type": "code",
   "execution_count": 12,
   "id": "bdbbe05f",
   "metadata": {},
   "outputs": [],
   "source": [
    "folder_origin=\"C:\\\\Users\\\\Balasubramaniyan.P\\\\personal\"\n",
    "folder_destination=\"C:\\\\Users\\Balasubramaniyan.P\\\\OneDrive - Shell\\\\Apps\\\\bala\\\\personal\\\\personal_backup\""
   ]
  },
  {
   "cell_type": "code",
   "execution_count": 13,
   "id": "afa4e766",
   "metadata": {},
   "outputs": [
    {
     "name": "stdout",
     "output_type": "stream",
     "text": [
      "Copied Investments\\analysis\\analysis_roi\\nav\\input\\AMFI_Jan2025\\final_compare.xlsx to C:\\Users\\Balasubramaniyan.P\\OneDrive - Shell\\Apps\\bala\\personal\\personal_backup\n",
      "Differences found and copied:\n"
     ]
    }
   ],
   "source": [
    "import os\n",
    "import shutil\n",
    "\n",
    "def get_folder_contents(folder_path):\n",
    "    contents = {}\n",
    "    for root, dirs, files in os.walk(folder_path):\n",
    "        for file in files:\n",
    "            file_path = os.path.join(root, file)\n",
    "            relative_path = os.path.relpath(file_path, folder_path)\n",
    "            file_size = os.path.getsize(file_path)\n",
    "            contents[relative_path] = file_size\n",
    "    return contents\n",
    "\n",
    "def copy_new_or_modified_files(folder1, folder2):\n",
    "    folder1_contents = get_folder_contents(folder1)\n",
    "    folder2_contents = get_folder_contents(folder2)\n",
    "\n",
    "    differences = []\n",
    "\n",
    "    for relative_path, size in folder1_contents.items():\n",
    "        try:\n",
    "            if relative_path not in folder2_contents or size != folder2_contents[relative_path]:\n",
    "                source_path = os.path.join(folder1, relative_path)\n",
    "                destination_path = os.path.join(folder2, relative_path)\n",
    "                destination_dir = os.path.dirname(destination_path)\n",
    "                if not os.path.exists(destination_dir):\n",
    "                    os.makedirs(destination_dir)\n",
    "                shutil.copy2(source_path, destination_path)\n",
    "                differences.append(relative_path)\n",
    "                print(f\"Copied {relative_path} to {folder2}\")\n",
    "        except Exception as e:\n",
    "            print(f\"An error occurred: {e}\")             \n",
    "        \n",
    "    return differences\n",
    "\n",
    "\n",
    "differences = copy_new_or_modified_files(folder_origin, folder_destination)\n",
    "\n",
    "if differences:\n",
    "    print(\"Differences found and copied:\")\n",
    "else:\n",
    "    print(\"No differences found.\")\n"
   ]
  }
 ],
 "metadata": {
  "kernelspec": {
   "display_name": "Python 3 (ipykernel)",
   "language": "python",
   "name": "python3"
  },
  "language_info": {
   "codemirror_mode": {
    "name": "ipython",
    "version": 3
   },
   "file_extension": ".py",
   "mimetype": "text/x-python",
   "name": "python",
   "nbconvert_exporter": "python",
   "pygments_lexer": "ipython3",
   "version": "3.11.3"
  }
 },
 "nbformat": 4,
 "nbformat_minor": 5
}
